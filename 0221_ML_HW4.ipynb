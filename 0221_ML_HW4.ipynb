{
  "cells": [
    {
      "cell_type": "markdown",
      "metadata": {
        "id": "view-in-github",
        "colab_type": "text"
      },
      "source": [
        "<a href=\"https://colab.research.google.com/github/Jatchen/Machine-Learning/blob/main/0221_ML_HW4.ipynb\" target=\"_parent\"><img src=\"https://colab.research.google.com/assets/colab-badge.svg\" alt=\"Open In Colab\"/></a>"
      ]
    },
    {
      "cell_type": "markdown",
      "id": "de9d00fb",
      "metadata": {
        "id": "de9d00fb"
      },
      "source": [
        "# BAX 452 - Homework 4\n",
        "- By Hema Sudarsan Rao\n",
        "- By Vania\n",
        "- By Jiateng Chen"
      ]
    },
    {
      "cell_type": "code",
      "source": [
        "from google.colab import drive\n",
        "import pandas as pd\n",
        "import numpy as np"
      ],
      "metadata": {
        "id": "r96vv_QDNhhP"
      },
      "id": "r96vv_QDNhhP",
      "execution_count": 1,
      "outputs": []
    },
    {
      "cell_type": "code",
      "source": [
        "from google.colab import drive\n",
        "drive.mount('/content/drive')"
      ],
      "metadata": {
        "colab": {
          "base_uri": "https://localhost:8080/"
        },
        "id": "JH0uawuQNivP",
        "outputId": "18dca7a2-e440-493e-afca-c8eb6b846e4f"
      },
      "id": "JH0uawuQNivP",
      "execution_count": 2,
      "outputs": [
        {
          "output_type": "stream",
          "name": "stdout",
          "text": [
            "Mounted at /content/drive\n"
          ]
        }
      ]
    },
    {
      "cell_type": "code",
      "execution_count": 3,
      "id": "e4d1a86a",
      "metadata": {
        "colab": {
          "base_uri": "https://localhost:8080/"
        },
        "id": "e4d1a86a",
        "outputId": "850a99d5-0d0a-4657-9825-7bf87e55454d"
      },
      "outputs": [
        {
          "output_type": "stream",
          "name": "stderr",
          "text": [
            "<ipython-input-3-8d9f61ba5e05>:7: DtypeWarning: Columns (5) have mixed types. Specify dtype option on import or set low_memory=False.\n",
            "  scrpits = pd.read_csv(\"/content/drive/MyDrive/ML_HW5_scripts-SMALL-sample.csv\")\n"
          ]
        }
      ],
      "source": [
        "import pandas as pd\n",
        "import numpy as np\n",
        "\n",
        "# Loading the required dataset\n",
        "medical = pd.read_csv(\"/content/drive/MyDrive/ML_HW5_medical-SMALL-sample.csv\")\n",
        "medical.rename(columns={'ss': 'journey_id'}, inplace=True)\n",
        "scrpits = pd.read_csv(\"/content/drive/MyDrive/ML_HW5_scripts-SMALL-sample.csv\")\n",
        "\n",
        "# Handle missing values\n",
        "medical = medical.dropna(subset=['diag_list'])\n",
        "scrpits = scrpits.dropna(subset=['diagnosis_code'])"
      ]
    },
    {
      "cell_type": "markdown",
      "id": "118a40dc",
      "metadata": {
        "id": "118a40dc"
      },
      "source": [
        "# Part 1: Data Preprocessing and Merging"
      ]
    },
    {
      "cell_type": "markdown",
      "id": "81c83fe0",
      "metadata": {
        "id": "81c83fe0"
      },
      "source": [
        "**STEPS I TAKE:**\n",
        "\n",
        "1. First we find the key variables in order to identify the effect. For example, ndc11 in medical table represents for Ozempic, here we use 169418113 to represent this. Diag_list in scripts represents the kinds of illness the patient may have, including diabetes (the purpose of Ozeempic), obese and hypertension. We also ignore the claim related code because it has nothing to do with our goal.\n",
        "2. Second, we did not merge the dataset, because the only shared variable is journey_id, which is not unique in each table. Merging through this leads to cartesian product problems.\n",
        "3. Third, our target population for this analysis is diabetes people, because other patients will not get Ozempic as a treatment method.\n",
        "4. In the end, we decide to create variables for each patient and build a new dataset for future analysis. For example, we create the outcome variable as improved, through identifying whether the diabetes disappears or not. If it does disappear, we mark it as 1, else 0. We also created the treatment variable as if ndc 11 contains 169418113, we marked treatment for this patient as 1. In order to capture the confounders, we also created the is_obses variable, age, gender, claim_charged and so on.\n"
      ]
    },
    {
      "cell_type": "code",
      "source": [
        "# Filter out journey_ids with diagnosis_codes containing any one of ['E08', 'E09', 'E10', 'E11', 'E13'], which is diabetes.\n",
        "diagnosis_codes = ['E08','E09','E10','E11','E13']\n",
        "filtered_journey_ids = scrpits[scrpits['diagnosis_code'].str.contains('|'.join(diagnosis_codes))]['journey_id'].unique()\n",
        "\n",
        "# Retain records from the scripts table that contain the relevant journey_ids, saving them in the scripts_E table\n",
        "scripts_E = scrpits[scrpits['journey_id'].isin(filtered_journey_ids)]\n",
        "medical_E = medical[medical['journey_id'].isin(filtered_journey_ids)]"
      ],
      "metadata": {
        "id": "Zgj8k6FdRqNQ"
      },
      "id": "Zgj8k6FdRqNQ",
      "execution_count": 4,
      "outputs": []
    },
    {
      "cell_type": "code",
      "execution_count": 5,
      "id": "5910b1a7",
      "metadata": {
        "colab": {
          "base_uri": "https://localhost:8080/"
        },
        "id": "5910b1a7",
        "outputId": "83d9bb31-2084-4e91-b10f-8ddaaf519b88"
      },
      "outputs": [
        {
          "output_type": "stream",
          "name": "stdout",
          "text": [
            "                            journey_id  Outcome\n",
            "0     00011020325337a2a22fb26b6492196a        0\n",
            "1     000611c33bf684a7fec8eb5bf8ef2c80        0\n",
            "2     000f40e84695544650e491b7585bd483        0\n",
            "3     00155fc1aefb64fa072f40de56c979f0        1\n",
            "4     001a7777c088977b21100828fab27911        1\n",
            "...                                ...      ...\n",
            "1470  1fe302675dc2c9d573beb76344517684        0\n",
            "1471  1fee90f7f55aee313daf3f7042256581        1\n",
            "1472  1ff8fc83bf1796e9a601c6fdaaa5a3ef        1\n",
            "1473  1ff8ff0a9c69c0d70e83a2061727c792        1\n",
            "1474  1fff19f39322d5c25a60259f30d937a4        0\n",
            "\n",
            "[1475 rows x 2 columns]\n"
          ]
        }
      ],
      "source": [
        "# Filter out journey_ids with diagnosis_codes containing any one of ['E08', 'E09', 'E10', 'E11', 'E13'], which is diabetes.\n",
        "diagnosis_codes = ['E08','E09','E10','E11','E13']\n",
        "filtered_journey_ids = scrpits[scrpits['diagnosis_code'].str.contains('|'.join(diagnosis_codes))]['journey_id'].unique()\n",
        "\n",
        "# Retain records from the scripts table that contain the relevant journey_ids, saving them in the scripts_E table\n",
        "scripts_E = scrpits[scrpits['journey_id'].isin(filtered_journey_ids)]\n",
        "\n",
        "# Based on the results from scripts_E, find the record corresponding to the last date_prescription_written for each journey_id\n",
        "last_prescription = scripts_E.groupby('journey_id').apply(lambda x: x.sort_values(by='date_prescription_written').iloc[-1])\n",
        "\n",
        "# For each journey_id, if the record does not contain any one of the diagnosis_codes ['E08', 'E09', 'E10', 'E11', 'E13'], set Outcome to 1; otherwise, set Outcome to 0\n",
        "last_prescription['Outcome'] = last_prescription.apply(lambda x: 1 if not any(code in x['diagnosis_code'] for code in diagnosis_codes) else 0, axis=1)\n",
        "\n",
        "Outcome_df_2 = last_prescription[['journey_id', 'Outcome']].reset_index(drop=True)\n",
        "\n",
        "print(Outcome_df_2)"
      ]
    },
    {
      "cell_type": "code",
      "execution_count": 6,
      "id": "f537ca2c",
      "metadata": {
        "id": "f537ca2c"
      },
      "outputs": [],
      "source": [
        "# Create treatment D: Whoever has taken Ozempic, i.e. 169418113\n",
        "scrpits = scrpits.dropna(subset=['ndc11'])\n",
        "scrpits['ndc11'] = scrpits['ndc11'].astype(str)\n",
        "treated_journeys = scrpits[scrpits['ndc11'] == '169418113']['journey_id'].unique()"
      ]
    },
    {
      "cell_type": "code",
      "execution_count": 7,
      "id": "2fd73da5",
      "metadata": {
        "id": "2fd73da5"
      },
      "outputs": [],
      "source": [
        "# Create X variables\n",
        "is_diabetes = medical[medical['diag_list'].str.contains('E08|E09|E10|E11|E13')]['journey_id'].unique()\n",
        "is_Obese = medical[medical['diag_list'].str.contains('E66|Z68')]['journey_id'].unique()\n",
        "is_Hypertention = medical[medical['diag_list'].str.contains('I10|I15')]['journey_id'].unique()"
      ]
    },
    {
      "cell_type": "code",
      "execution_count": 8,
      "id": "dfbb4221",
      "metadata": {
        "colab": {
          "base_uri": "https://localhost:8080/"
        },
        "id": "dfbb4221",
        "outputId": "a7f3b8e0-cfe0-43f9-c5a0-f54f48352190"
      },
      "outputs": [
        {
          "output_type": "stream",
          "name": "stdout",
          "text": [
            "                            journey_id  Outcome  Is_treatment  is_diabetes  \\\n",
            "0     00011020325337a2a22fb26b6492196a        0             0            1   \n",
            "1     000611c33bf684a7fec8eb5bf8ef2c80        0             0            1   \n",
            "2     000f40e84695544650e491b7585bd483        0             0            0   \n",
            "3     00155fc1aefb64fa072f40de56c979f0        1             0            1   \n",
            "4     001a7777c088977b21100828fab27911        1             0            1   \n",
            "...                                ...      ...           ...          ...   \n",
            "1470  1fe302675dc2c9d573beb76344517684        0             0            1   \n",
            "1471  1fee90f7f55aee313daf3f7042256581        1             0            1   \n",
            "1472  1ff8fc83bf1796e9a601c6fdaaa5a3ef        1             0            1   \n",
            "1473  1ff8ff0a9c69c0d70e83a2061727c792        1             0            1   \n",
            "1474  1fff19f39322d5c25a60259f30d937a4        0             0            1   \n",
            "\n",
            "      is_Obese  is_Hypertention   Age  Gender  line_charge  claim_charge  \\\n",
            "0            1                1  75.0     1.0      2500.00       2500.00   \n",
            "1            0                0  50.0     0.0         0.01          0.01   \n",
            "2            0                0  50.0     0.0       150.00        150.00   \n",
            "3            1                1  70.0     0.0        68.64         68.64   \n",
            "4            0                1  60.0     0.0        82.00         82.00   \n",
            "...        ...              ...   ...     ...          ...           ...   \n",
            "1470         0                1  60.0     1.0         0.00          0.00   \n",
            "1471         1                1  75.0     0.0       280.00        280.00   \n",
            "1472         1                0  65.0     0.0        38.00         38.00   \n",
            "1473         1                1  50.0     0.0         6.70          6.70   \n",
            "1474         1                0  55.0     1.0        87.73         87.73   \n",
            "\n",
            "      smart_allowed  \n",
            "0              0.00  \n",
            "1              0.00  \n",
            "2              0.00  \n",
            "3             74.61  \n",
            "4            166.99  \n",
            "...             ...  \n",
            "1470          46.57  \n",
            "1471         121.12  \n",
            "1472          24.76  \n",
            "1473          16.40  \n",
            "1474           0.00  \n",
            "\n",
            "[1475 rows x 11 columns]\n"
          ]
        }
      ],
      "source": [
        "## Merge the datasets and encode categorical data for use in regression model\n",
        "\n",
        "# Add is_treatment to outcome_df\n",
        "Outcome_df_2['Is_treatment'] = 0\n",
        "Outcome_df_2.loc[Outcome_df_2['journey_id'].isin(treated_journeys), 'Is_treatment'] = 1\n",
        "\n",
        "# Add is_diabetes to outcome_df\n",
        "Outcome_df_2['is_diabetes'] = 0\n",
        "Outcome_df_2.loc[Outcome_df_2['journey_id'].isin(is_diabetes), 'is_diabetes'] = 1\n",
        "\n",
        "# Add is_Obese to outcome_df\n",
        "Outcome_df_2['is_Obese'] = 0\n",
        "Outcome_df_2.loc[Outcome_df_2['journey_id'].isin(is_Obese), 'is_Obese'] = 1\n",
        "\n",
        "# Add is_Hypertention to outcome_df\n",
        "Outcome_df_2['is_Hypertention'] = 0\n",
        "Outcome_df_2.loc[Outcome_df_2['journey_id'].isin(is_Hypertention), 'is_Hypertention'] = 1\n",
        "\n",
        "# Add age\n",
        "journey_age_map = medical.set_index('journey_id')['patient_age'].to_dict()\n",
        "Outcome_df_2['Age'] = Outcome_df_2['journey_id'].map(journey_age_map)\n",
        "\n",
        "# convert 'M' to 1 and 'F' to 0\n",
        "medical['patient_gender_int'] = medical['patient_gender'].map({'M': 1, 'F': 0})\n",
        "\n",
        "# Add gender\n",
        "patient_gender_map = medical.set_index('journey_id')['patient_gender_int'].to_dict()\n",
        "Outcome_df_2['Gender'] = Outcome_df_2['journey_id'].map(patient_gender_map)\n",
        "\n",
        "# Add line charge\n",
        "line_charge_map = medical.set_index('journey_id')['line_charge'].to_dict()\n",
        "Outcome_df_2['line_charge'] = Outcome_df_2['journey_id'].map(line_charge_map)\n",
        "\n",
        "# Add claim charge\n",
        "claim_charge_map = medical.set_index('journey_id')['claim_charge'].to_dict()\n",
        "Outcome_df_2['claim_charge'] = Outcome_df_2['journey_id'].map(claim_charge_map)\n",
        "\n",
        "# Add smart allowed\n",
        "smart_allowed_map = medical.set_index('journey_id')['smart_allowed'].to_dict()\n",
        "Outcome_df_2['smart_allowed'] = Outcome_df_2['journey_id'].map(smart_allowed_map)\n",
        "\n",
        "print(Outcome_df_2)"
      ]
    },
    {
      "cell_type": "markdown",
      "source": [
        "# Part 2: Exploratory Data Analysis (EDA)"
      ],
      "metadata": {
        "id": "ic_5pghhdfz5"
      },
      "id": "ic_5pghhdfz5"
    },
    {
      "cell_type": "code",
      "source": [
        "import pandas as pd\n",
        "import seaborn as sns\n",
        "import matplotlib.pyplot as plt\n",
        "\n",
        "# draw a heatmap\n",
        "plt.figure(figsize=(10, 8))\n",
        "heatmap = sns.heatmap(Outcome_df_2.corr(), annot=True, cmap='coolwarm', linewidths=0.5)\n",
        "plt.title('Correlation Heatmap')\n",
        "plt.show()"
      ],
      "metadata": {
        "colab": {
          "base_uri": "https://localhost:8080/",
          "height": 849
        },
        "id": "-jlVykJlTs5z",
        "outputId": "1249cc7a-7217-4137-9107-475a1ed83385"
      },
      "id": "-jlVykJlTs5z",
      "execution_count": 9,
      "outputs": [
        {
          "output_type": "stream",
          "name": "stderr",
          "text": [
            "<ipython-input-9-8876247ccc2f>:7: FutureWarning: The default value of numeric_only in DataFrame.corr is deprecated. In a future version, it will default to False. Select only valid columns or specify the value of numeric_only to silence this warning.\n",
            "  heatmap = sns.heatmap(Outcome_df_2.corr(), annot=True, cmap='coolwarm', linewidths=0.5)\n"
          ]
        },
        {
          "output_type": "display_data",
          "data": {
            "text/plain": [
              "<Figure size 1000x800 with 2 Axes>"
            ],
            "image/png": "[encoded data removed]"
          },
          "metadata": {}
        }
      ]
    },
    {
      "cell_type": "markdown",
      "source": [
        "Insight:\n",
        "we draw a heatmap first to see the relationship between different variables. We can see that three kinds of disease are correlated with each other. So we further draw the cross table to see their relationship."
      ],
      "metadata": {
        "id": "rothbtKgV8H-"
      },
      "id": "rothbtKgV8H-"
    },
    {
      "cell_type": "code",
      "source": [
        "# create the cross tab\n",
        "cross_tab = pd.crosstab(Outcome_df_2['is_diabetes'], Outcome_df_2['is_Hypertention'])\n",
        "\n",
        "plt.figure(figsize=(8, 6))\n",
        "sns.heatmap(cross_tab, annot=True, fmt='d', cmap='YlGnBu', cbar=True, square=True)\n",
        "plt.title('Cross Tabulation of is_diabetes and is_Hypertention')\n",
        "plt.xlabel('is_Hypertention')\n",
        "plt.ylabel('is_diabetes')\n",
        "plt.show()"
      ],
      "metadata": {
        "colab": {
          "base_uri": "https://localhost:8080/",
          "height": 564
        },
        "id": "I5AG-EC5TuNp",
        "outputId": "eeee13ae-9d73-4fd9-bb9b-fc04636db050"
      },
      "id": "I5AG-EC5TuNp",
      "execution_count": 10,
      "outputs": [
        {
          "output_type": "display_data",
          "data": {
            "text/plain": [
              "<Figure size 800x600 with 2 Axes>"
            ],
            "image/png": "[encoded data removed]"
          },
          "metadata": {}
        }
      ]
    },
    {
      "cell_type": "markdown",
      "source": [
        "Insight: we can see that for those who has hypertention, 1010 of them has diabetes too. Around 400 people has only one kind of disease. It makes sense because these two illness often happens together in real life. But we need to be careful for the endogeneity issue."
      ],
      "metadata": {
        "id": "Kj8O7ROTWXKr"
      },
      "id": "Kj8O7ROTWXKr"
    },
    {
      "cell_type": "markdown",
      "id": "4ce9ee4e",
      "metadata": {
        "id": "4ce9ee4e"
      },
      "source": [
        "# Part 3: Causal Analysis Setup"
      ]
    },
    {
      "cell_type": "markdown",
      "source": [
        " the potential endogeneity issues:\n",
        " 1. We define the outcome variable as disappear or not, we did not specific the time, like after taking Ozempic or before. So it may happen simultaneously and affect each other.\n",
        " 2. The covariates we choose may have a strong influence on the treatment variable. For example, older people are more likely to get diabetes"
      ],
      "metadata": {
        "id": "l_DoIvBne4IV"
      },
      "id": "l_DoIvBne4IV"
    },
    {
      "cell_type": "markdown",
      "source": [
        "strategy for addressing endogeneity:\n",
        "We plan to use double-lasso to address the problem.\n",
        "1. first stage we analyze the relationship between treatment and covariates, we can have a idea about how covariate will affect our treatment.\n",
        "2. second stage, we predict the d_hat from 1st stage, to represent the covariate's influence. Then we perform a lasso about outcome, treatment, d_hat and covariates, with only penalizing covariates. In this casee, we can understand how much the prue treatment will affect the outcome and exclude the influence from covariate."
      ],
      "metadata": {
        "id": "gmefMbd1gMbR"
      },
      "id": "gmefMbd1gMbR"
    },
    {
      "cell_type": "markdown",
      "id": "7b659d54",
      "metadata": {
        "id": "7b659d54"
      },
      "source": [
        "# Part 4: Model Development: Double-Lasso / Treatment Effect Lasso"
      ]
    },
    {
      "cell_type": "markdown",
      "id": "5e29cac0",
      "metadata": {
        "id": "5e29cac0"
      },
      "source": [
        "In the first stage, we use lasso regression to select relevant variables for the treatment equation and the outcome equation."
      ]
    },
    {
      "cell_type": "code",
      "execution_count": 12,
      "id": "f8ba2ead",
      "metadata": {
        "id": "f8ba2ead",
        "colab": {
          "base_uri": "https://localhost:8080/"
        },
        "outputId": "8346d025-34d6-4b31-9863-60e4496bb99a"
      },
      "outputs": [
        {
          "output_type": "stream",
          "name": "stderr",
          "text": [
            "<ipython-input-12-d1bbe29f00f5>:5: SettingWithCopyWarning: \n",
            "A value is trying to be set on a copy of a slice from a DataFrame\n",
            "\n",
            "See the caveats in the documentation: https://pandas.pydata.org/pandas-docs/stable/user_guide/indexing.html#returning-a-view-versus-a-copy\n",
            "  Outcome_df_2.drop(columns = 'journey_id',inplace = True)\n"
          ]
        }
      ],
      "source": [
        "# Handle missing values\n",
        "Outcome_df_2 = Outcome_df_2.dropna()\n",
        "\n",
        "# Removing journey_id from the dataframe\n",
        "Outcome_df_2.drop(columns = 'journey_id',inplace = True)\n",
        "\n",
        "# Defining our X and d for first lasso regression\n",
        "X = Outcome_df_2.drop(columns = ['Outcome','Is_treatment'])\n",
        "d = Outcome_df_2['Is_treatment']"
      ]
    },
    {
      "cell_type": "code",
      "source": [
        "from sklearn.preprocessing import StandardScaler\n",
        "\n",
        "# Initialize StandardScaler\n",
        "scaler = StandardScaler()\n",
        "\n",
        "# Fit scaler to X and transform X\n",
        "X = scaler.fit_transform(X)"
      ],
      "metadata": {
        "id": "BQ4wNufHR1Y0"
      },
      "id": "BQ4wNufHR1Y0",
      "execution_count": 13,
      "outputs": []
    },
    {
      "cell_type": "code",
      "execution_count": 14,
      "id": "1d8bc0e1",
      "metadata": {
        "colab": {
          "base_uri": "https://localhost:8080/",
          "height": 206
        },
        "id": "1d8bc0e1",
        "outputId": "db3f6f0b-abdc-43ec-ba17-75818681a30c"
      },
      "outputs": [
        {
          "output_type": "execute_result",
          "data": {
            "text/plain": [
              "   Outcome  Is_treatment  is_diabetes  is_Obese  is_Hypertention   Age  \\\n",
              "0        0             0            1         1                1  75.0   \n",
              "1        0             0            1         0                0  50.0   \n",
              "2        0             0            0         0                0  50.0   \n",
              "3        1             0            1         1                1  70.0   \n",
              "4        1             0            1         0                1  60.0   \n",
              "\n",
              "   Gender  line_charge  claim_charge  smart_allowed     d_hat  \n",
              "0     1.0      2500.00       2500.00           0.00  0.093643  \n",
              "1     0.0         0.01          0.01           0.00  0.093643  \n",
              "2     0.0       150.00        150.00           0.00  0.093643  \n",
              "3     0.0        68.64         68.64          74.61  0.093643  \n",
              "4     0.0        82.00         82.00         166.99  0.093643  "
            ],
            "text/html": [
              "\n",
              "  <div id=\"df-c1938269-0042-4c27-94d3-33ad6d8085a4\" class=\"colab-df-container\">\n",
              "    <div>\n",
              "<style scoped>\n",
              "    .dataframe tbody tr th:only-of-type {\n",
              "        vertical-align: middle;\n",
              "    }\n",
              "\n",
              "    .dataframe tbody tr th {\n",
              "        vertical-align: top;\n",
              "    }\n",
              "\n",
              "    .dataframe thead th {\n",
              "        text-align: right;\n",
              "    }\n",
              "</style>\n",
              "<table border=\"1\" class=\"dataframe\">\n",
              "  <thead>\n",
              "    <tr style=\"text-align: right;\">\n",
              "      <th></th>\n",
              "      <th>Outcome</th>\n",
              "      <th>Is_treatment</th>\n",
              "      <th>is_diabetes</th>\n",
              "      <th>is_Obese</th>\n",
              "      <th>is_Hypertention</th>\n",
              "      <th>Age</th>\n",
              "      <th>Gender</th>\n",
              "      <th>line_charge</th>\n",
              "      <th>claim_charge</th>\n",
              "      <th>smart_allowed</th>\n",
              "      <th>d_hat</th>\n",
              "    </tr>\n",
              "  </thead>\n",
              "  <tbody>\n",
              "    <tr>\n",
              "      <th>0</th>\n",
              "      <td>0</td>\n",
              "      <td>0</td>\n",
              "      <td>1</td>\n",
              "      <td>1</td>\n",
              "      <td>1</td>\n",
              "      <td>75.0</td>\n",
              "      <td>1.0</td>\n",
              "      <td>2500.00</td>\n",
              "      <td>2500.00</td>\n",
              "      <td>0.00</td>\n",
              "      <td>0.093643</td>\n",
              "    </tr>\n",
              "    <tr>\n",
              "      <th>1</th>\n",
              "      <td>0</td>\n",
              "      <td>0</td>\n",
              "      <td>1</td>\n",
              "      <td>0</td>\n",
              "      <td>0</td>\n",
              "      <td>50.0</td>\n",
              "      <td>0.0</td>\n",
              "      <td>0.01</td>\n",
              "      <td>0.01</td>\n",
              "      <td>0.00</td>\n",
              "      <td>0.093643</td>\n",
              "    </tr>\n",
              "    <tr>\n",
              "      <th>2</th>\n",
              "      <td>0</td>\n",
              "      <td>0</td>\n",
              "      <td>0</td>\n",
              "      <td>0</td>\n",
              "      <td>0</td>\n",
              "      <td>50.0</td>\n",
              "      <td>0.0</td>\n",
              "      <td>150.00</td>\n",
              "      <td>150.00</td>\n",
              "      <td>0.00</td>\n",
              "      <td>0.093643</td>\n",
              "    </tr>\n",
              "    <tr>\n",
              "      <th>3</th>\n",
              "      <td>1</td>\n",
              "      <td>0</td>\n",
              "      <td>1</td>\n",
              "      <td>1</td>\n",
              "      <td>1</td>\n",
              "      <td>70.0</td>\n",
              "      <td>0.0</td>\n",
              "      <td>68.64</td>\n",
              "      <td>68.64</td>\n",
              "      <td>74.61</td>\n",
              "      <td>0.093643</td>\n",
              "    </tr>\n",
              "    <tr>\n",
              "      <th>4</th>\n",
              "      <td>1</td>\n",
              "      <td>0</td>\n",
              "      <td>1</td>\n",
              "      <td>0</td>\n",
              "      <td>1</td>\n",
              "      <td>60.0</td>\n",
              "      <td>0.0</td>\n",
              "      <td>82.00</td>\n",
              "      <td>82.00</td>\n",
              "      <td>166.99</td>\n",
              "      <td>0.093643</td>\n",
              "    </tr>\n",
              "  </tbody>\n",
              "</table>\n",
              "</div>\n",
              "    <div class=\"colab-df-buttons\">\n",
              "\n",
              "  <div class=\"colab-df-container\">\n",
              "    <button class=\"colab-df-convert\" onclick=\"convertToInteractive('df-c1938269-0042-4c27-94d3-33ad6d8085a4')\"\n",
              "            title=\"Convert this dataframe to an interactive table.\"\n",
              "            style=\"display:none;\">\n",
              "\n",
              "  <svg xmlns=\"http://www.w3.org/2000/svg\" height=\"24px\" viewBox=\"0 -960 960 960\">\n",
              "    <path d=\"M120-120v-720h720v720H120Zm60-500h600v-160H180v160Zm220 220h160v-160H400v160Zm0 220h160v-160H400v160ZM180-400h160v-160H180v160Zm440 0h160v-160H620v160ZM180-180h160v-160H180v160Zm440 0h160v-160H620v160Z\"/>\n",
              "  </svg>\n",
              "    </button>\n",
              "\n",
              "  <style>\n",
              "    .colab-df-container {\n",
              "      display:flex;\n",
              "      gap: 12px;\n",
              "    }\n",
              "\n",
              "    .colab-df-convert {\n",
              "      background-color: #E8F0FE;\n",
              "      border: none;\n",
              "      border-radius: 50%;\n",
              "      cursor: pointer;\n",
              "      display: none;\n",
              "      fill: #1967D2;\n",
              "      height: 32px;\n",
              "      padding: 0 0 0 0;\n",
              "      width: 32px;\n",
              "    }\n",
              "\n",
              "    .colab-df-convert:hover {\n",
              "      background-color: #E2EBFA;\n",
              "      box-shadow: 0px 1px 2px rgba(60, 64, 67, 0.3), 0px 1px 3px 1px rgba(60, 64, 67, 0.15);\n",
              "      fill: #174EA6;\n",
              "    }\n",
              "\n",
              "    .colab-df-buttons div {\n",
              "      margin-bottom: 4px;\n",
              "    }\n",
              "\n",
              "    [theme=dark] .colab-df-convert {\n",
              "      background-color: #3B4455;\n",
              "      fill: #D2E3FC;\n",
              "    }\n",
              "\n",
              "    [theme=dark] .colab-df-convert:hover {\n",
              "      background-color: #434B5C;\n",
              "      box-shadow: 0px 1px 3px 1px rgba(0, 0, 0, 0.15);\n",
              "      filter: drop-shadow(0px 1px 2px rgba(0, 0, 0, 0.3));\n",
              "      fill: #FFFFFF;\n",
              "    }\n",
              "  </style>\n",
              "\n",
              "    <script>\n",
              "      const buttonEl =\n",
              "        document.querySelector('#df-c1938269-0042-4c27-94d3-33ad6d8085a4 button.colab-df-convert');\n",
              "      buttonEl.style.display =\n",
              "        google.colab.kernel.accessAllowed ? 'block' : 'none';\n",
              "\n",
              "      async function convertToInteractive(key) {\n",
              "        const element = document.querySelector('#df-c1938269-0042-4c27-94d3-33ad6d8085a4');\n",
              "        const dataTable =\n",
              "          await google.colab.kernel.invokeFunction('convertToInteractive',\n",
              "                                                    [key], {});\n",
              "        if (!dataTable) return;\n",
              "\n",
              "        const docLinkHtml = 'Like what you see? Visit the ' +\n",
              "          '<a target=\"_blank\" href=https://colab.research.google.com/notebooks/data_table.ipynb>data table notebook</a>'\n",
              "          + ' to learn more about interactive tables.';\n",
              "        element.innerHTML = '';\n",
              "        dataTable['output_type'] = 'display_data';\n",
              "        await google.colab.output.renderOutput(dataTable, element);\n",
              "        const docLink = document.createElement('div');\n",
              "        docLink.innerHTML = docLinkHtml;\n",
              "        element.appendChild(docLink);\n",
              "      }\n",
              "    </script>\n",
              "  </div>\n",
              "\n",
              "\n",
              "<div id=\"df-18aa2583-33d2-444f-ae05-095444dcc3f7\">\n",
              "  <button class=\"colab-df-quickchart\" onclick=\"quickchart('df-18aa2583-33d2-444f-ae05-095444dcc3f7')\"\n",
              "            title=\"Suggest charts\"\n",
              "            style=\"display:none;\">\n",
              "\n",
              "<svg xmlns=\"http://www.w3.org/2000/svg\" height=\"24px\"viewBox=\"0 0 24 24\"\n",
              "     width=\"24px\">\n",
              "    <g>\n",
              "        <path d=\"M19 3H5c-1.1 0-2 .9-2 2v14c0 1.1.9 2 2 2h14c1.1 0 2-.9 2-2V5c0-1.1-.9-2-2-2zM9 17H7v-7h2v7zm4 0h-2V7h2v10zm4 0h-2v-4h2v4z\"/>\n",
              "    </g>\n",
              "</svg>\n",
              "  </button>\n",
              "\n",
              "<style>\n",
              "  .colab-df-quickchart {\n",
              "      --bg-color: #E8F0FE;\n",
              "      --fill-color: #1967D2;\n",
              "      --hover-bg-color: #E2EBFA;\n",
              "      --hover-fill-color: #174EA6;\n",
              "      --disabled-fill-color: #AAA;\n",
              "      --disabled-bg-color: #DDD;\n",
              "  }\n",
              "\n",
              "  [theme=dark] .colab-df-quickchart {\n",
              "      --bg-color: #3B4455;\n",
              "      --fill-color: #D2E3FC;\n",
              "      --hover-bg-color: #434B5C;\n",
              "      --hover-fill-color: #FFFFFF;\n",
              "      --disabled-bg-color: #3B4455;\n",
              "      --disabled-fill-color: #666;\n",
              "  }\n",
              "\n",
              "  .colab-df-quickchart {\n",
              "    background-color: var(--bg-color);\n",
              "    border: none;\n",
              "    border-radius: 50%;\n",
              "    cursor: pointer;\n",
              "    display: none;\n",
              "    fill: var(--fill-color);\n",
              "    height: 32px;\n",
              "    padding: 0;\n",
              "    width: 32px;\n",
              "  }\n",
              "\n",
              "  .colab-df-quickchart:hover {\n",
              "    background-color: var(--hover-bg-color);\n",
              "    box-shadow: 0 1px 2px rgba(60, 64, 67, 0.3), 0 1px 3px 1px rgba(60, 64, 67, 0.15);\n",
              "    fill: var(--button-hover-fill-color);\n",
              "  }\n",
              "\n",
              "  .colab-df-quickchart-complete:disabled,\n",
              "  .colab-df-quickchart-complete:disabled:hover {\n",
              "    background-color: var(--disabled-bg-color);\n",
              "    fill: var(--disabled-fill-color);\n",
              "    box-shadow: none;\n",
              "  }\n",
              "\n",
              "  .colab-df-spinner {\n",
              "    border: 2px solid var(--fill-color);\n",
              "    border-color: transparent;\n",
              "    border-bottom-color: var(--fill-color);\n",
              "    animation:\n",
              "      spin 1s steps(1) infinite;\n",
              "  }\n",
              "\n",
              "  @keyframes spin {\n",
              "    0% {\n",
              "      border-color: transparent;\n",
              "      border-bottom-color: var(--fill-color);\n",
              "      border-left-color: var(--fill-color);\n",
              "    }\n",
              "    20% {\n",
              "      border-color: transparent;\n",
              "      border-left-color: var(--fill-color);\n",
              "      border-top-color: var(--fill-color);\n",
              "    }\n",
              "    30% {\n",
              "      border-color: transparent;\n",
              "      border-left-color: var(--fill-color);\n",
              "      border-top-color: var(--fill-color);\n",
              "      border-right-color: var(--fill-color);\n",
              "    }\n",
              "    40% {\n",
              "      border-color: transparent;\n",
              "      border-right-color: var(--fill-color);\n",
              "      border-top-color: var(--fill-color);\n",
              "    }\n",
              "    60% {\n",
              "      border-color: transparent;\n",
              "      border-right-color: var(--fill-color);\n",
              "    }\n",
              "    80% {\n",
              "      border-color: transparent;\n",
              "      border-right-color: var(--fill-color);\n",
              "      border-bottom-color: var(--fill-color);\n",
              "    }\n",
              "    90% {\n",
              "      border-color: transparent;\n",
              "      border-bottom-color: var(--fill-color);\n",
              "    }\n",
              "  }\n",
              "</style>\n",
              "\n",
              "  <script>\n",
              "    async function quickchart(key) {\n",
              "      const quickchartButtonEl =\n",
              "        document.querySelector('#' + key + ' button');\n",
              "      quickchartButtonEl.disabled = true;  // To prevent multiple clicks.\n",
              "      quickchartButtonEl.classList.add('colab-df-spinner');\n",
              "      try {\n",
              "        const charts = await google.colab.kernel.invokeFunction(\n",
              "            'suggestCharts', [key], {});\n",
              "      } catch (error) {\n",
              "        console.error('Error during call to suggestCharts:', error);\n",
              "      }\n",
              "      quickchartButtonEl.classList.remove('colab-df-spinner');\n",
              "      quickchartButtonEl.classList.add('colab-df-quickchart-complete');\n",
              "    }\n",
              "    (() => {\n",
              "      let quickchartButtonEl =\n",
              "        document.querySelector('#df-18aa2583-33d2-444f-ae05-095444dcc3f7 button');\n",
              "      quickchartButtonEl.style.display =\n",
              "        google.colab.kernel.accessAllowed ? 'block' : 'none';\n",
              "    })();\n",
              "  </script>\n",
              "</div>\n",
              "\n",
              "    </div>\n",
              "  </div>\n"
            ],
            "application/vnd.google.colaboratory.intrinsic+json": {
              "type": "dataframe",
              "variable_name": "Outcome_df_2",
              "summary": "{\n  \"name\": \"Outcome_df_2\",\n  \"rows\": 1463,\n  \"fields\": [\n    {\n      \"column\": \"Outcome\",\n      \"properties\": {\n        \"dtype\": \"number\",\n        \"std\": 0,\n        \"min\": 0,\n        \"max\": 1,\n        \"num_unique_values\": 2,\n        \"samples\": [\n          1,\n          0\n        ],\n        \"semantic_type\": \"\",\n        \"description\": \"\"\n      }\n    },\n    {\n      \"column\": \"Is_treatment\",\n      \"properties\": {\n        \"dtype\": \"number\",\n        \"std\": 0,\n        \"min\": 0,\n        \"max\": 1,\n        \"num_unique_values\": 2,\n        \"samples\": [\n          1,\n          0\n        ],\n        \"semantic_type\": \"\",\n        \"description\": \"\"\n      }\n    },\n    {\n      \"column\": \"is_diabetes\",\n      \"properties\": {\n        \"dtype\": \"number\",\n        \"std\": 0,\n        \"min\": 0,\n        \"max\": 1,\n        \"num_unique_values\": 2,\n        \"samples\": [\n          0,\n          1\n        ],\n        \"semantic_type\": \"\",\n        \"description\": \"\"\n      }\n    },\n    {\n      \"column\": \"is_Obese\",\n      \"properties\": {\n        \"dtype\": \"number\",\n        \"std\": 0,\n        \"min\": 0,\n        \"max\": 1,\n        \"num_unique_values\": 2,\n        \"samples\": [\n          0,\n          1\n        ],\n        \"semantic_type\": \"\",\n        \"description\": \"\"\n      }\n    },\n    {\n      \"column\": \"is_Hypertention\",\n      \"properties\": {\n        \"dtype\": \"number\",\n        \"std\": 0,\n        \"min\": 0,\n        \"max\": 1,\n        \"num_unique_values\": 2,\n        \"samples\": [\n          0,\n          1\n        ],\n        \"semantic_type\": \"\",\n        \"description\": \"\"\n      }\n    },\n    {\n      \"column\": \"Age\",\n      \"properties\": {\n        \"dtype\": \"number\",\n        \"std\": 9.580057522980704,\n        \"min\": 35.0,\n        \"max\": 80.0,\n        \"num_unique_values\": 10,\n        \"samples\": [\n          45.0,\n          50.0\n        ],\n        \"semantic_type\": \"\",\n        \"description\": \"\"\n      }\n    },\n    {\n      \"column\": \"Gender\",\n      \"properties\": {\n        \"dtype\": \"number\",\n        \"std\": 0.497056894070573,\n        \"min\": 0.0,\n        \"max\": 1.0,\n        \"num_unique_values\": 2,\n        \"samples\": [\n          0.0,\n          1.0\n        ],\n        \"semantic_type\": \"\",\n        \"description\": \"\"\n      }\n    },\n    {\n      \"column\": \"line_charge\",\n      \"properties\": {\n        \"dtype\": \"number\",\n        \"std\": 2278.267763963361,\n        \"min\": 0.0,\n        \"max\": 54390.0,\n        \"num_unique_values\": 623,\n        \"samples\": [\n          351.0,\n          74.82\n        ],\n        \"semantic_type\": \"\",\n        \"description\": \"\"\n      }\n    },\n    {\n      \"column\": \"claim_charge\",\n      \"properties\": {\n        \"dtype\": \"number\",\n        \"std\": 2278.267763963361,\n        \"min\": 0.0,\n        \"max\": 54390.0,\n        \"num_unique_values\": 623,\n        \"samples\": [\n          351.0,\n          74.82\n        ],\n        \"semantic_type\": \"\",\n        \"description\": \"\"\n      }\n    },\n    {\n      \"column\": \"smart_allowed\",\n      \"properties\": {\n        \"dtype\": \"number\",\n        \"std\": 380.1770093585362,\n        \"min\": 0.0,\n        \"max\": 6455.03,\n        \"num_unique_values\": 693,\n        \"samples\": [\n          116.91,\n          1228.45\n        ],\n        \"semantic_type\": \"\",\n        \"description\": \"\"\n      }\n    },\n    {\n      \"column\": \"d_hat\",\n      \"properties\": {\n        \"dtype\": \"number\",\n        \"std\": 0.0,\n        \"min\": 0.0936431989063568,\n        \"max\": 0.0936431989063568,\n        \"num_unique_values\": 1,\n        \"samples\": [\n          0.0936431989063568\n        ],\n        \"semantic_type\": \"\",\n        \"description\": \"\"\n      }\n    }\n  ]\n}"
            }
          },
          "metadata": {},
          "execution_count": 14
        }
      ],
      "source": [
        "from sklearn.linear_model import Lasso\n",
        "\n",
        "# Fit the lasso regression on X and d variables\n",
        "lasso1 = Lasso(alpha=0.1)\n",
        "lasso1.fit(X, d)\n",
        "\n",
        "# Define dhat\n",
        "dhat = lasso1.predict(X)\n",
        "\n",
        "# Add the values of dhat back to our dataframe\n",
        "Outcome_df_2['d_hat'] = dhat\n",
        "Outcome_df_2.head()"
      ]
    },
    {
      "cell_type": "code",
      "execution_count": 15,
      "id": "3fe341b2",
      "metadata": {
        "scrolled": true,
        "colab": {
          "base_uri": "https://localhost:8080/",
          "height": 206
        },
        "id": "3fe341b2",
        "outputId": "2f0aa40c-1697-4a01-d76b-0fbcd71f049c"
      },
      "outputs": [
        {
          "output_type": "execute_result",
          "data": {
            "text/plain": [
              "      Is_treatment     d_hat  is_diabetes  is_Obese  is_Hypertention   Age  \\\n",
              "663              0  0.093643            1         1                1  40.0   \n",
              "1206             0  0.093643            1         1                1  55.0   \n",
              "1028             0  0.093643            1         1                1  55.0   \n",
              "1236             0  0.093643            1         1                1  70.0   \n",
              "968              1  0.093643            1         1                1  60.0   \n",
              "\n",
              "      Gender  line_charge  claim_charge  smart_allowed  \n",
              "663      1.0        219.0         219.0         106.45  \n",
              "1206     1.0         40.0          40.0          36.25  \n",
              "1028     1.0          0.0           0.0         224.67  \n",
              "1236     0.0         70.0          70.0          52.17  \n",
              "968      1.0          0.0           0.0         103.83  "
            ],
            "text/html": [
              "\n",
              "  <div id=\"df-2b9a9db0-c5d5-40fd-80cd-12e2ca31c31e\" class=\"colab-df-container\">\n",
              "    <div>\n",
              "<style scoped>\n",
              "    .dataframe tbody tr th:only-of-type {\n",
              "        vertical-align: middle;\n",
              "    }\n",
              "\n",
              "    .dataframe tbody tr th {\n",
              "        vertical-align: top;\n",
              "    }\n",
              "\n",
              "    .dataframe thead th {\n",
              "        text-align: right;\n",
              "    }\n",
              "</style>\n",
              "<table border=\"1\" class=\"dataframe\">\n",
              "  <thead>\n",
              "    <tr style=\"text-align: right;\">\n",
              "      <th></th>\n",
              "      <th>Is_treatment</th>\n",
              "      <th>d_hat</th>\n",
              "      <th>is_diabetes</th>\n",
              "      <th>is_Obese</th>\n",
              "      <th>is_Hypertention</th>\n",
              "      <th>Age</th>\n",
              "      <th>Gender</th>\n",
              "      <th>line_charge</th>\n",
              "      <th>claim_charge</th>\n",
              "      <th>smart_allowed</th>\n",
              "    </tr>\n",
              "  </thead>\n",
              "  <tbody>\n",
              "    <tr>\n",
              "      <th>663</th>\n",
              "      <td>0</td>\n",
              "      <td>0.093643</td>\n",
              "      <td>1</td>\n",
              "      <td>1</td>\n",
              "      <td>1</td>\n",
              "      <td>40.0</td>\n",
              "      <td>1.0</td>\n",
              "      <td>219.0</td>\n",
              "      <td>219.0</td>\n",
              "      <td>106.45</td>\n",
              "    </tr>\n",
              "    <tr>\n",
              "      <th>1206</th>\n",
              "      <td>0</td>\n",
              "      <td>0.093643</td>\n",
              "      <td>1</td>\n",
              "      <td>1</td>\n",
              "      <td>1</td>\n",
              "      <td>55.0</td>\n",
              "      <td>1.0</td>\n",
              "      <td>40.0</td>\n",
              "      <td>40.0</td>\n",
              "      <td>36.25</td>\n",
              "    </tr>\n",
              "    <tr>\n",
              "      <th>1028</th>\n",
              "      <td>0</td>\n",
              "      <td>0.093643</td>\n",
              "      <td>1</td>\n",
              "      <td>1</td>\n",
              "      <td>1</td>\n",
              "      <td>55.0</td>\n",
              "      <td>1.0</td>\n",
              "      <td>0.0</td>\n",
              "      <td>0.0</td>\n",
              "      <td>224.67</td>\n",
              "    </tr>\n",
              "    <tr>\n",
              "      <th>1236</th>\n",
              "      <td>0</td>\n",
              "      <td>0.093643</td>\n",
              "      <td>1</td>\n",
              "      <td>1</td>\n",
              "      <td>1</td>\n",
              "      <td>70.0</td>\n",
              "      <td>0.0</td>\n",
              "      <td>70.0</td>\n",
              "      <td>70.0</td>\n",
              "      <td>52.17</td>\n",
              "    </tr>\n",
              "    <tr>\n",
              "      <th>968</th>\n",
              "      <td>1</td>\n",
              "      <td>0.093643</td>\n",
              "      <td>1</td>\n",
              "      <td>1</td>\n",
              "      <td>1</td>\n",
              "      <td>60.0</td>\n",
              "      <td>1.0</td>\n",
              "      <td>0.0</td>\n",
              "      <td>0.0</td>\n",
              "      <td>103.83</td>\n",
              "    </tr>\n",
              "  </tbody>\n",
              "</table>\n",
              "</div>\n",
              "    <div class=\"colab-df-buttons\">\n",
              "\n",
              "  <div class=\"colab-df-container\">\n",
              "    <button class=\"colab-df-convert\" onclick=\"convertToInteractive('df-2b9a9db0-c5d5-40fd-80cd-12e2ca31c31e')\"\n",
              "            title=\"Convert this dataframe to an interactive table.\"\n",
              "            style=\"display:none;\">\n",
              "\n",
              "  <svg xmlns=\"http://www.w3.org/2000/svg\" height=\"24px\" viewBox=\"0 -960 960 960\">\n",
              "    <path d=\"M120-120v-720h720v720H120Zm60-500h600v-160H180v160Zm220 220h160v-160H400v160Zm0 220h160v-160H400v160ZM180-400h160v-160H180v160Zm440 0h160v-160H620v160ZM180-180h160v-160H180v160Zm440 0h160v-160H620v160Z\"/>\n",
              "  </svg>\n",
              "    </button>\n",
              "\n",
              "  <style>\n",
              "    .colab-df-container {\n",
              "      display:flex;\n",
              "      gap: 12px;\n",
              "    }\n",
              "\n",
              "    .colab-df-convert {\n",
              "      background-color: #E8F0FE;\n",
              "      border: none;\n",
              "      border-radius: 50%;\n",
              "      cursor: pointer;\n",
              "      display: none;\n",
              "      fill: #1967D2;\n",
              "      height: 32px;\n",
              "      padding: 0 0 0 0;\n",
              "      width: 32px;\n",
              "    }\n",
              "\n",
              "    .colab-df-convert:hover {\n",
              "      background-color: #E2EBFA;\n",
              "      box-shadow: 0px 1px 2px rgba(60, 64, 67, 0.3), 0px 1px 3px 1px rgba(60, 64, 67, 0.15);\n",
              "      fill: #174EA6;\n",
              "    }\n",
              "\n",
              "    .colab-df-buttons div {\n",
              "      margin-bottom: 4px;\n",
              "    }\n",
              "\n",
              "    [theme=dark] .colab-df-convert {\n",
              "      background-color: #3B4455;\n",
              "      fill: #D2E3FC;\n",
              "    }\n",
              "\n",
              "    [theme=dark] .colab-df-convert:hover {\n",
              "      background-color: #434B5C;\n",
              "      box-shadow: 0px 1px 3px 1px rgba(0, 0, 0, 0.15);\n",
              "      filter: drop-shadow(0px 1px 2px rgba(0, 0, 0, 0.3));\n",
              "      fill: #FFFFFF;\n",
              "    }\n",
              "  </style>\n",
              "\n",
              "    <script>\n",
              "      const buttonEl =\n",
              "        document.querySelector('#df-2b9a9db0-c5d5-40fd-80cd-12e2ca31c31e button.colab-df-convert');\n",
              "      buttonEl.style.display =\n",
              "        google.colab.kernel.accessAllowed ? 'block' : 'none';\n",
              "\n",
              "      async function convertToInteractive(key) {\n",
              "        const element = document.querySelector('#df-2b9a9db0-c5d5-40fd-80cd-12e2ca31c31e');\n",
              "        const dataTable =\n",
              "          await google.colab.kernel.invokeFunction('convertToInteractive',\n",
              "                                                    [key], {});\n",
              "        if (!dataTable) return;\n",
              "\n",
              "        const docLinkHtml = 'Like what you see? Visit the ' +\n",
              "          '<a target=\"_blank\" href=https://colab.research.google.com/notebooks/data_table.ipynb>data table notebook</a>'\n",
              "          + ' to learn more about interactive tables.';\n",
              "        element.innerHTML = '';\n",
              "        dataTable['output_type'] = 'display_data';\n",
              "        await google.colab.output.renderOutput(dataTable, element);\n",
              "        const docLink = document.createElement('div');\n",
              "        docLink.innerHTML = docLinkHtml;\n",
              "        element.appendChild(docLink);\n",
              "      }\n",
              "    </script>\n",
              "  </div>\n",
              "\n",
              "\n",
              "<div id=\"df-e5fca91f-6813-4469-b847-79311354baff\">\n",
              "  <button class=\"colab-df-quickchart\" onclick=\"quickchart('df-e5fca91f-6813-4469-b847-79311354baff')\"\n",
              "            title=\"Suggest charts\"\n",
              "            style=\"display:none;\">\n",
              "\n",
              "<svg xmlns=\"http://www.w3.org/2000/svg\" height=\"24px\"viewBox=\"0 0 24 24\"\n",
              "     width=\"24px\">\n",
              "    <g>\n",
              "        <path d=\"M19 3H5c-1.1 0-2 .9-2 2v14c0 1.1.9 2 2 2h14c1.1 0 2-.9 2-2V5c0-1.1-.9-2-2-2zM9 17H7v-7h2v7zm4 0h-2V7h2v10zm4 0h-2v-4h2v4z\"/>\n",
              "    </g>\n",
              "</svg>\n",
              "  </button>\n",
              "\n",
              "<style>\n",
              "  .colab-df-quickchart {\n",
              "      --bg-color: #E8F0FE;\n",
              "      --fill-color: #1967D2;\n",
              "      --hover-bg-color: #E2EBFA;\n",
              "      --hover-fill-color: #174EA6;\n",
              "      --disabled-fill-color: #AAA;\n",
              "      --disabled-bg-color: #DDD;\n",
              "  }\n",
              "\n",
              "  [theme=dark] .colab-df-quickchart {\n",
              "      --bg-color: #3B4455;\n",
              "      --fill-color: #D2E3FC;\n",
              "      --hover-bg-color: #434B5C;\n",
              "      --hover-fill-color: #FFFFFF;\n",
              "      --disabled-bg-color: #3B4455;\n",
              "      --disabled-fill-color: #666;\n",
              "  }\n",
              "\n",
              "  .colab-df-quickchart {\n",
              "    background-color: var(--bg-color);\n",
              "    border: none;\n",
              "    border-radius: 50%;\n",
              "    cursor: pointer;\n",
              "    display: none;\n",
              "    fill: var(--fill-color);\n",
              "    height: 32px;\n",
              "    padding: 0;\n",
              "    width: 32px;\n",
              "  }\n",
              "\n",
              "  .colab-df-quickchart:hover {\n",
              "    background-color: var(--hover-bg-color);\n",
              "    box-shadow: 0 1px 2px rgba(60, 64, 67, 0.3), 0 1px 3px 1px rgba(60, 64, 67, 0.15);\n",
              "    fill: var(--button-hover-fill-color);\n",
              "  }\n",
              "\n",
              "  .colab-df-quickchart-complete:disabled,\n",
              "  .colab-df-quickchart-complete:disabled:hover {\n",
              "    background-color: var(--disabled-bg-color);\n",
              "    fill: var(--disabled-fill-color);\n",
              "    box-shadow: none;\n",
              "  }\n",
              "\n",
              "  .colab-df-spinner {\n",
              "    border: 2px solid var(--fill-color);\n",
              "    border-color: transparent;\n",
              "    border-bottom-color: var(--fill-color);\n",
              "    animation:\n",
              "      spin 1s steps(1) infinite;\n",
              "  }\n",
              "\n",
              "  @keyframes spin {\n",
              "    0% {\n",
              "      border-color: transparent;\n",
              "      border-bottom-color: var(--fill-color);\n",
              "      border-left-color: var(--fill-color);\n",
              "    }\n",
              "    20% {\n",
              "      border-color: transparent;\n",
              "      border-left-color: var(--fill-color);\n",
              "      border-top-color: var(--fill-color);\n",
              "    }\n",
              "    30% {\n",
              "      border-color: transparent;\n",
              "      border-left-color: var(--fill-color);\n",
              "      border-top-color: var(--fill-color);\n",
              "      border-right-color: var(--fill-color);\n",
              "    }\n",
              "    40% {\n",
              "      border-color: transparent;\n",
              "      border-right-color: var(--fill-color);\n",
              "      border-top-color: var(--fill-color);\n",
              "    }\n",
              "    60% {\n",
              "      border-color: transparent;\n",
              "      border-right-color: var(--fill-color);\n",
              "    }\n",
              "    80% {\n",
              "      border-color: transparent;\n",
              "      border-right-color: var(--fill-color);\n",
              "      border-bottom-color: var(--fill-color);\n",
              "    }\n",
              "    90% {\n",
              "      border-color: transparent;\n",
              "      border-bottom-color: var(--fill-color);\n",
              "    }\n",
              "  }\n",
              "</style>\n",
              "\n",
              "  <script>\n",
              "    async function quickchart(key) {\n",
              "      const quickchartButtonEl =\n",
              "        document.querySelector('#' + key + ' button');\n",
              "      quickchartButtonEl.disabled = true;  // To prevent multiple clicks.\n",
              "      quickchartButtonEl.classList.add('colab-df-spinner');\n",
              "      try {\n",
              "        const charts = await google.colab.kernel.invokeFunction(\n",
              "            'suggestCharts', [key], {});\n",
              "      } catch (error) {\n",
              "        console.error('Error during call to suggestCharts:', error);\n",
              "      }\n",
              "      quickchartButtonEl.classList.remove('colab-df-spinner');\n",
              "      quickchartButtonEl.classList.add('colab-df-quickchart-complete');\n",
              "    }\n",
              "    (() => {\n",
              "      let quickchartButtonEl =\n",
              "        document.querySelector('#df-e5fca91f-6813-4469-b847-79311354baff button');\n",
              "      quickchartButtonEl.style.display =\n",
              "        google.colab.kernel.accessAllowed ? 'block' : 'none';\n",
              "    })();\n",
              "  </script>\n",
              "</div>\n",
              "\n",
              "    </div>\n",
              "  </div>\n"
            ],
            "application/vnd.google.colaboratory.intrinsic+json": {
              "type": "dataframe",
              "variable_name": "X_train_final",
              "summary": "{\n  \"name\": \"X_train_final\",\n  \"rows\": 292,\n  \"fields\": [\n    {\n      \"column\": \"Is_treatment\",\n      \"properties\": {\n        \"dtype\": \"number\",\n        \"std\": 0,\n        \"min\": 0,\n        \"max\": 1,\n        \"num_unique_values\": 2,\n        \"samples\": [\n          1,\n          0\n        ],\n        \"semantic_type\": \"\",\n        \"description\": \"\"\n      }\n    },\n    {\n      \"column\": \"d_hat\",\n      \"properties\": {\n        \"dtype\": \"number\",\n        \"std\": 0.0,\n        \"min\": 0.0936431989063568,\n        \"max\": 0.0936431989063568,\n        \"num_unique_values\": 1,\n        \"samples\": [\n          0.0936431989063568\n        ],\n        \"semantic_type\": \"\",\n        \"description\": \"\"\n      }\n    },\n    {\n      \"column\": \"is_diabetes\",\n      \"properties\": {\n        \"dtype\": \"number\",\n        \"std\": 0,\n        \"min\": 0,\n        \"max\": 1,\n        \"num_unique_values\": 2,\n        \"samples\": [\n          0\n        ],\n        \"semantic_type\": \"\",\n        \"description\": \"\"\n      }\n    },\n    {\n      \"column\": \"is_Obese\",\n      \"properties\": {\n        \"dtype\": \"number\",\n        \"std\": 0,\n        \"min\": 0,\n        \"max\": 1,\n        \"num_unique_values\": 2,\n        \"samples\": [\n          0\n        ],\n        \"semantic_type\": \"\",\n        \"description\": \"\"\n      }\n    },\n    {\n      \"column\": \"is_Hypertention\",\n      \"properties\": {\n        \"dtype\": \"number\",\n        \"std\": 0,\n        \"min\": 0,\n        \"max\": 1,\n        \"num_unique_values\": 2,\n        \"samples\": [\n          0\n        ],\n        \"semantic_type\": \"\",\n        \"description\": \"\"\n      }\n    },\n    {\n      \"column\": \"Age\",\n      \"properties\": {\n        \"dtype\": \"number\",\n        \"std\": 9.038455374880993,\n        \"min\": 35.0,\n        \"max\": 80.0,\n        \"num_unique_values\": 10,\n        \"samples\": [\n          35.0\n        ],\n        \"semantic_type\": \"\",\n        \"description\": \"\"\n      }\n    },\n    {\n      \"column\": \"Gender\",\n      \"properties\": {\n        \"dtype\": \"number\",\n        \"std\": 0.4974514912633662,\n        \"min\": 0.0,\n        \"max\": 1.0,\n        \"num_unique_values\": 2,\n        \"samples\": [\n          0.0\n        ],\n        \"semantic_type\": \"\",\n        \"description\": \"\"\n      }\n    },\n    {\n      \"column\": \"line_charge\",\n      \"properties\": {\n        \"dtype\": \"number\",\n        \"std\": 4021.977054018782,\n        \"min\": 0.0,\n        \"max\": 54390.0,\n        \"num_unique_values\": 175,\n        \"samples\": [\n          115.0\n        ],\n        \"semantic_type\": \"\",\n        \"description\": \"\"\n      }\n    },\n    {\n      \"column\": \"claim_charge\",\n      \"properties\": {\n        \"dtype\": \"number\",\n        \"std\": 4021.977054018782,\n        \"min\": 0.0,\n        \"max\": 54390.0,\n        \"num_unique_values\": 175,\n        \"samples\": [\n          115.0\n        ],\n        \"semantic_type\": \"\",\n        \"description\": \"\"\n      }\n    },\n    {\n      \"column\": \"smart_allowed\",\n      \"properties\": {\n        \"dtype\": \"number\",\n        \"std\": 424.6569769850216,\n        \"min\": 0.0,\n        \"max\": 4620.46,\n        \"num_unique_values\": 194,\n        \"samples\": [\n          16.48\n        ],\n        \"semantic_type\": \"\",\n        \"description\": \"\"\n      }\n    }\n  ]\n}"
            }
          },
          "metadata": {},
          "execution_count": 15
        }
      ],
      "source": [
        "from sklearn.model_selection import train_test_split\n",
        "\n",
        "# Prepare feature variables (X) and target variable (y)\n",
        "X = Outcome_df_2.drop(columns = ['Outcome'])  # Exclude outcome to isolate features\n",
        "y = Outcome_df_2['Outcome']  # Target variable\n",
        "\n",
        "# Split dataset into training and testing sets with 20% of data for training\n",
        "X_train, X_test, y_train, y_test = train_test_split(X, y, train_size=0.2, random_state=42)\n",
        "\n",
        "# Remove treatment indicator and predicted treatment effect from training features\n",
        "X_train_updated = X_train.drop(columns=['Is_treatment', 'd_hat'])\n",
        "\n",
        "# Extract treatment indicator and predicted treatment effect for training set\n",
        "d_train = X_train['Is_treatment']\n",
        "d_hat_train = X_train['d_hat']\n",
        "\n",
        "# Repeat the process for test data\n",
        "X_test_updated = X_test.drop(columns=['Is_treatment', 'd_hat'])\n",
        "d_test = X_test['Is_treatment']\n",
        "d_hat_test = X_test['d_hat']\n",
        "\n",
        "# Combine treatment indicators, predicted effects, and other features for final training set\n",
        "X_train_final = pd.concat([d_train, d_hat_train, X_train_updated], axis=1)\n",
        "\n",
        "# Repeat combination for final test set\n",
        "X_test_final = pd.concat([d_test, d_hat_test, X_test_updated], axis=1)\n",
        "\n",
        "# Display the first few rows\n",
        "X_train_final.head()"
      ]
    },
    {
      "cell_type": "code",
      "execution_count": 16,
      "id": "831e9cc5",
      "metadata": {
        "id": "831e9cc5"
      },
      "outputs": [],
      "source": [
        "# Defining a function to apply penality on choosen columns variables\n",
        "\n",
        "class SelectiveRegularizationLinearRegression:\n",
        "    def __init__(self, alpha, apply_penalty, tolerance=1e-4, max_iterations=1000):\n",
        "        self.alpha = alpha\n",
        "        self.tolerance = tolerance\n",
        "        self.apply_penalty = apply_penalty\n",
        "        self.max_iterations = max_iterations\n",
        "        self.w = None\n",
        "\n",
        "    def _predicted_values(self, X, w):\n",
        "        return np.matmul(X, w)\n",
        "\n",
        "    def _rho_compute(self, y, X, w, j):\n",
        "        X_k = np.delete(X, j, 1)\n",
        "        w_k = np.delete(w, j)\n",
        "        predict_k = self._predicted_values(X_k, w_k)\n",
        "        residual = y - predict_k\n",
        "        rho_j = np.sum(X[:, j] * residual)\n",
        "        return rho_j\n",
        "\n",
        "    def _z_compute(self, X):\n",
        "        return np.sum(X * X, axis=0)\n",
        "\n",
        "    def fit(self, X, y):\n",
        "        n_samples, n_features = X.shape\n",
        "        if not self.w:\n",
        "            self.w = np.zeros(n_features)\n",
        "        z = self._z_compute(X)\n",
        "        for iteration in range(self.max_iterations):\n",
        "            max_step = 0\n",
        "            for j in range(n_features):\n",
        "                rho_j = self._rho_compute(y, X, self.w, j)\n",
        "                w_j_old = self.w[j]\n",
        "                if j == 0:\n",
        "                    self.w[j] = rho_j / z[j]\n",
        "                else:\n",
        "                    if self.apply_penalty[j]:\n",
        "                        if rho_j < -self.alpha * n_samples:\n",
        "                            self.w[j] = (rho_j + self.alpha * n_samples) / z[j]\n",
        "                        elif -self.alpha * n_samples <= rho_j <= self.alpha * n_samples:\n",
        "                            self.w[j] = 0.\n",
        "                        elif rho_j > self.alpha * n_samples:\n",
        "                            self.w[j] = (rho_j - self.alpha * n_samples) / z[j]\n",
        "                    else:\n",
        "                        self.w[j] = rho_j / z[j]\n",
        "                max_step = max(max_step, abs(self.w[j] - w_j_old))\n",
        "            if max_step < self.tolerance:\n",
        "                break\n",
        "        return self\n",
        "\n",
        "    def predict(self, X):\n",
        "        if self.w is None:\n",
        "            raise ValueError(\"Model is not fitted yet!\")\n",
        "        return self._predicted_values(X, self.w)"
      ]
    },
    {
      "cell_type": "code",
      "source": [
        "# Convert the final training set to a NumPy array for model fitting\n",
        "X = X_train_final.values\n",
        "\n",
        "# Manually add an intercept to feature matrix for linear regression\n",
        "n_samples = len(X)\n",
        "X = np.hstack((np.ones((n_samples, 1)), X))\n",
        "\n",
        "# Convert the target variable of the training set to a NumPy array\n",
        "y = y_train.values"
      ],
      "metadata": {
        "id": "bv5r9IegSDE2"
      },
      "id": "bv5r9IegSDE2",
      "execution_count": 17,
      "outputs": []
    },
    {
      "cell_type": "code",
      "source": [
        "# Define penalty application: No penalty on the first two coefficients, apply penalty on the next 9\n",
        "apply_penalty = np.array([False, False] + [True] * 9)\n",
        "\n",
        "# Set the strength of the L1 regularization term\n",
        "alpha = 0.1\n",
        "\n",
        "# Set the maximum number of iterations for the optimization algorithm\n",
        "max_iterations = 1000\n",
        "\n",
        "# Initialize the selective regularization linear regression model with specified parameters\n",
        "model = SelectiveRegularizationLinearRegression(alpha, apply_penalty, max_iterations)\n",
        "\n",
        "# Fit the model to the training data\n",
        "model.fit(X, y)"
      ],
      "metadata": {
        "colab": {
          "base_uri": "https://localhost:8080/"
        },
        "id": "N_UcStjySE8S",
        "outputId": "d6a24fbf-d6ab-49c2-fa2d-cecd71b9b805"
      },
      "id": "N_UcStjySE8S",
      "execution_count": 18,
      "outputs": [
        {
          "output_type": "execute_result",
          "data": {
            "text/plain": [
              "<__main__.SelectiveRegularizationLinearRegression at 0x7ca5e218d930>"
            ]
          },
          "metadata": {},
          "execution_count": 18
        }
      ]
    },
    {
      "cell_type": "markdown",
      "id": "8d3faf4e",
      "metadata": {
        "id": "8d3faf4e"
      },
      "source": [
        "# Part 5: Model Evaluation and Interpretation"
      ]
    },
    {
      "cell_type": "code",
      "execution_count": 19,
      "id": "dc90e748",
      "metadata": {
        "colab": {
          "base_uri": "https://localhost:8080/"
        },
        "id": "dc90e748",
        "outputId": "e102104f-753e-4b9f-c988-3af4df691eaf"
      },
      "outputs": [
        {
          "output_type": "stream",
          "name": "stdout",
          "text": [
            "Mean Squared Error (MSE): 0.18960028920447305\n",
            "Mean Absolute Error (MAE): 0.3371941669641072\n",
            "R-squared (R²): -0.02234998336255356\n"
          ]
        }
      ],
      "source": [
        "from sklearn.metrics import mean_squared_error, mean_absolute_error, r2_score\n",
        "\n",
        "# Add the intercept on test data\n",
        "n_samples_test = X_test_final.shape[0]\n",
        "X_test_with_intercept = np.hstack((np.ones((n_samples_test, 1)), X_test_final.values))\n",
        "\n",
        "# Calculate prediction outcomes on test Set\n",
        "y_pred = model.predict(X_test_with_intercept)\n",
        "\n",
        "# Calculate performance metrics for model evaluation\n",
        "mse = mean_squared_error(y_test, y_pred)\n",
        "mae = mean_absolute_error(y_test, y_pred)\n",
        "r2 = r2_score(y_test, y_pred)\n",
        "\n",
        "# Print the values\n",
        "print(f\"Mean Squared Error (MSE): {mse}\")\n",
        "print(f\"Mean Absolute Error (MAE): {mae}\")\n",
        "print(f\"R-squared (R²): {r2}\")"
      ]
    },
    {
      "cell_type": "code",
      "source": [
        "# Treatment effect is the first coefficient in model.w\n",
        "treatment_effect = model.w[0]\n",
        "print(f\"Treatment Effect: {treatment_effect}\")"
      ],
      "metadata": {
        "colab": {
          "base_uri": "https://localhost:8080/"
        },
        "id": "aHbcfTTxSxTh",
        "outputId": "4a666744-532b-47c0-9c8a-4db7f3f130a1"
      },
      "id": "aHbcfTTxSxTh",
      "execution_count": 20,
      "outputs": [
        {
          "output_type": "stream",
          "name": "stdout",
          "text": [
            "Treatment Effect: 0.821917808219178\n"
          ]
        }
      ]
    },
    {
      "cell_type": "code",
      "source": [
        "print(model)"
      ],
      "metadata": {
        "colab": {
          "base_uri": "https://localhost:8080/"
        },
        "id": "fCZhymwsTSxT",
        "outputId": "a1510695-2ea8-4e73-fc96-5d3d52bcd131"
      },
      "id": "fCZhymwsTSxT",
      "execution_count": 21,
      "outputs": [
        {
          "output_type": "stream",
          "name": "stdout",
          "text": [
            "<__main__.SelectiveRegularizationLinearRegression object at 0x7ca5e218d930>\n"
          ]
        }
      ]
    },
    {
      "cell_type": "markdown",
      "id": "e781db0a",
      "metadata": {
        "id": "e781db0a"
      },
      "source": [
        "**INSIGHTS:**"
      ]
    },
    {
      "cell_type": "markdown",
      "id": "419573ae",
      "metadata": {
        "id": "419573ae"
      },
      "source": [
        "1. treatment effect of 0.821917808219178 shows positive effects of Ozempic on certain patients.\n",
        "2. The OOS MSE of 0.18 shows our model has a low error when predicting unseen data. However, the negative R^2 suggests that our model perform worse than null model, which can be a sign of overly penalization during lasso and loss too many coefficients.\n",
        "3. In this study, we are interested in the coefficient and significance level of treatment, the nagetive R^2 will not affect this."
      ]
    },
    {
      "cell_type": "markdown",
      "id": "6196fdcd",
      "metadata": {
        "id": "6196fdcd"
      },
      "source": [
        "# Part 6: Additional Insights"
      ]
    },
    {
      "cell_type": "markdown",
      "id": "1aab7aac",
      "metadata": {
        "id": "1aab7aac"
      },
      "source": [
        "1. After analyzing the dataset provided and search for the process of seeing a doctor in America, we create a new input data instead of merging the dataset.\n",
        "2. If I have more time, I'll try to use Propensity score matching to control the covariates."
      ]
    },
    {
      "cell_type": "markdown",
      "id": "ca9bf4d8",
      "metadata": {
        "id": "ca9bf4d8"
      },
      "source": [
        "# THE END"
      ]
    },
    {
      "cell_type": "code",
      "source": [
        "%%shell\n",
        "jupyter nbconvert --to html \"/content/0221_ML_HW4.ipynb\""
      ],
      "metadata": {
        "colab": {
          "base_uri": "https://localhost:8080/"
        },
        "id": "3jm2VCTKmPqS",
        "outputId": "24c15787-668f-4efc-a2a9-48507e37d86b"
      },
      "id": "3jm2VCTKmPqS",
      "execution_count": 23,
      "outputs": [
        {
          "output_type": "stream",
          "name": "stdout",
          "text": [
            "[NbConvertApp] Converting notebook /content/0221_ML_HW4.ipynb to html\n",
            "[NbConvertApp] Writing 843453 bytes to /content/0221_ML_HW4.html\n"
          ]
        },
        {
          "output_type": "execute_result",
          "data": {
            "text/plain": []
          },
          "metadata": {},
          "execution_count": 23
        }
      ]
    }
  ],
  "metadata": {
    "kernelspec": {
      "display_name": "Python 3",
      "language": "python",
      "name": "python3"
    },
    "language_info": {
      "codemirror_mode": {
        "name": "ipython",
        "version": 3
      },
      "file_extension": ".py",
      "mimetype": "text/x-python",
      "name": "python",
      "nbconvert_exporter": "python",
      "pygments_lexer": "ipython3",
      "version": "3.8.8"
    },
    "colab": {
      "provenance": [],
      "include_colab_link": true
    }
  },
  "nbformat": 4,
  "nbformat_minor": 5
}